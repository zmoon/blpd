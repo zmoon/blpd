{
 "cells": [
  {
   "cell_type": "markdown",
   "id": "moved-better",
   "metadata": {
    "lines_to_next_cell": 0
   },
   "source": [
    "# Parameters\n",
    "\n",
    "How to set them, see them, update them..."
   ]
  },
  {
   "cell_type": "code",
   "execution_count": null,
   "id": "latin-trance",
   "metadata": {
    "lines_to_next_cell": 2
   },
   "outputs": [],
   "source": [
    "import pprint\n",
    "\n",
    "import blpd\n",
    "from blpd.model import compare_params, INPUT_PARAM_DEFAULTS  # noreorder"
   ]
  },
  {
   "cell_type": "markdown",
   "id": "clinical-foundation",
   "metadata": {},
   "source": [
    "First we print the *input* parameter defaults."
   ]
  },
  {
   "cell_type": "code",
   "execution_count": null,
   "id": "dressed-genre",
   "metadata": {},
   "outputs": [],
   "source": [
    "pp = pprint.PrettyPrinter()\n",
    "\n",
    "msg = \"All model input parameters\"\n",
    "print(msg)\n",
    "print(\"-\" * len(msg))\n",
    "pp.pprint(INPUT_PARAM_DEFAULTS)"
   ]
  },
  {
   "cell_type": "markdown",
   "id": "greenhouse-range",
   "metadata": {},
   "source": [
    "Creating a default model object, we can see that its parameters match the defaults."
   ]
  },
  {
   "cell_type": "code",
   "execution_count": null,
   "id": "genetic-alberta",
   "metadata": {},
   "outputs": [],
   "source": [
    "m0 = blpd.model()\n",
    "\n",
    "compare_params(m0.p)"
   ]
  },
  {
   "cell_type": "markdown",
   "id": "informative-brunei",
   "metadata": {},
   "source": [
    "It has other parameters besides the ones shown above, since additional parameters are derived from the *input* parameters."
   ]
  },
  {
   "cell_type": "code",
   "execution_count": null,
   "id": "dense-transportation",
   "metadata": {},
   "outputs": [],
   "source": [
    "set(m0.p) - set(INPUT_PARAM_DEFAULTS)"
   ]
  },
  {
   "cell_type": "markdown",
   "id": "seventh-reply",
   "metadata": {},
   "source": [
    "Creating a new model instance and changing some settings, we can see how the *input* and *derived* parameters change."
   ]
  },
  {
   "cell_type": "code",
   "execution_count": null,
   "id": "familiar-newfoundland",
   "metadata": {},
   "outputs": [],
   "source": [
    "m = blpd.model()\n",
    "m.update_p(t_tot=5 * 60, ustar=1.0)"
   ]
  },
  {
   "cell_type": "markdown",
   "id": "minimal-delight",
   "metadata": {},
   "source": [
    "Note that we can also make these changes at initialization."
   ]
  },
  {
   "cell_type": "code",
   "execution_count": null,
   "id": "necessary-addiction",
   "metadata": {},
   "outputs": [],
   "source": [
    "m_alt = blpd.model(p={\"t_tot\": 5 * 60, \"ustar\": 1.0})\n",
    "compare_params(m.p, m_alt.p)"
   ]
  },
  {
   "cell_type": "markdown",
   "id": "editorial-cambodia",
   "metadata": {},
   "source": [
    "If no 2nd argument passed, we compare to the default model instance."
   ]
  },
  {
   "cell_type": "code",
   "execution_count": null,
   "id": "polish-underwear",
   "metadata": {},
   "outputs": [],
   "source": [
    "compare_params(m.p)"
   ]
  },
  {
   "cell_type": "markdown",
   "id": "choice-senator",
   "metadata": {},
   "source": [
    "We can also pass it and here obtain the same result, although the message has changed slightly."
   ]
  },
  {
   "cell_type": "code",
   "execution_count": null,
   "id": "pressing-optics",
   "metadata": {},
   "outputs": [],
   "source": [
    "compare_params(m.p, m0.p)"
   ]
  },
  {
   "cell_type": "markdown",
   "id": "organized-prague",
   "metadata": {},
   "source": [
    "We can also do the comparisons without printing the messages."
   ]
  },
  {
   "cell_type": "code",
   "execution_count": null,
   "id": "sought-funds",
   "metadata": {},
   "outputs": [],
   "source": [
    "compare_params(m.p, m0.p, print_message=False)"
   ]
  },
  {
   "cell_type": "code",
   "execution_count": null,
   "id": "beginning-corrections",
   "metadata": {},
   "outputs": [],
   "source": [
    "compare_params(m.p, m.p, print_message=False)"
   ]
  },
  {
   "cell_type": "markdown",
   "id": "temporal-begin",
   "metadata": {},
   "source": [
    "We can also elect to show only input parameters."
   ]
  },
  {
   "cell_type": "code",
   "execution_count": null,
   "id": "significant-roommate",
   "metadata": {},
   "outputs": [],
   "source": [
    "compare_params(m.p, input_params_only=True)"
   ]
  }
 ],
 "metadata": {
  "jupytext": {
   "cell_metadata_filter": "title,-all",
   "encoding": "# -*- coding: utf-8 -*-"
  },
  "kernelspec": {
   "display_name": "Python 3",
   "language": "python",
   "name": "python3"
  },
  "language_info": {
   "codemirror_mode": {
    "name": "ipython",
    "version": 3
   },
   "file_extension": ".py",
   "mimetype": "text/x-python",
   "name": "python",
   "nbconvert_exporter": "python",
   "pygments_lexer": "ipython3",
   "version": "3.8.8"
  }
 },
 "nbformat": 4,
 "nbformat_minor": 5
}
