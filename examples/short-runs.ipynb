{
 "cells": [
  {
   "cell_type": "markdown",
   "id": "0",
   "metadata": {
    "lines_to_next_cell": 0
   },
   "source": [
    "# Demonstrate run types and default plots"
   ]
  },
  {
   "cell_type": "code",
   "execution_count": null,
   "id": "1",
   "metadata": {
    "lines_to_next_cell": 2
   },
   "outputs": [],
   "source": [
    "import blpd"
   ]
  },
  {
   "cell_type": "markdown",
   "id": "2",
   "metadata": {},
   "source": [
    "The default case has a single source at $(0, 0)$.\n",
    "\n",
    "The default run type is continuous-release. In this run, we only keep track of the current positions of the particles, not their trajectory history."
   ]
  },
  {
   "cell_type": "code",
   "execution_count": null,
   "id": "3",
   "metadata": {
    "lines_to_next_cell": 2
   },
   "outputs": [],
   "source": [
    "m0 = blpd.model()  # default settings\n",
    "m0.run()\n",
    "m0.plot()"
   ]
  },
  {
   "cell_type": "markdown",
   "id": "4",
   "metadata": {},
   "source": [
    "The above series can also be done all in one line by chaining the calls. Note that even though we are using the same model inputs, the result is different since there is a stochastic element to the trajectory calculations."
   ]
  },
  {
   "cell_type": "code",
   "execution_count": null,
   "id": "5",
   "metadata": {},
   "outputs": [],
   "source": [
    "blpd.model().run().plot()"
   ]
  },
  {
   "cell_type": "markdown",
   "id": "6",
   "metadata": {},
   "source": [
    "The other type of run is single-release (`continuous_release=False`). With this run type, we store all particle trajectories and can plot them."
   ]
  },
  {
   "cell_type": "code",
   "execution_count": null,
   "id": "7",
   "metadata": {
    "lines_to_next_cell": 2
   },
   "outputs": [],
   "source": [
    "m1 = blpd.model(\n",
    "    p={\n",
    "        \"continuous_release\": False,\n",
    "        \"dNp_per_dt_per_source\": 1000,  # for single-release, the total number of particles to release\n",
    "        \"t_tot\": 5 * 60,  # 5 minutes\n",
    "        \"dt\": 0.1,\n",
    "        \"dt_out\": 1.0,  # a multiple of model integration time step\n",
    "    }\n",
    ")\n",
    "m1.run()\n",
    "m1.plot()"
   ]
  },
  {
   "cell_type": "markdown",
   "id": "8",
   "metadata": {},
   "source": [
    "The default plot can be modified by passing kwargs through to the relevant plotting function. Here we smooth the trajectories."
   ]
  },
  {
   "cell_type": "code",
   "execution_count": null,
   "id": "9",
   "metadata": {},
   "outputs": [],
   "source": [
    "m1.plot(smooth_window_size=60)  # a 1 min window"
   ]
  }
 ],
 "metadata": {
  "jupytext": {
   "cell_metadata_filter": "title,-all",
   "encoding": "# -*- coding: utf-8 -*-"
  },
  "kernelspec": {
   "display_name": "Python 3",
   "language": "python",
   "name": "python3"
  },
  "language_info": {
   "codemirror_mode": {
    "name": "ipython",
    "version": 3
   },
   "file_extension": ".py",
   "mimetype": "text/x-python",
   "name": "python",
   "nbconvert_exporter": "python",
   "pygments_lexer": "ipython3",
   "version": "3.8.8"
  }
 },
 "nbformat": 4,
 "nbformat_minor": 5
}
