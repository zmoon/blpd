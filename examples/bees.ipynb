{
 "cells": [
  {
   "cell_type": "markdown",
   "id": "radical-cycle",
   "metadata": {
    "lines_to_next_cell": 0
   },
   "source": [
    "# Bees"
   ]
  },
  {
   "cell_type": "code",
   "execution_count": null,
   "id": "alpha-biology",
   "metadata": {},
   "outputs": [],
   "source": [
    "import matplotlib.pyplot as plt\n",
    "import numpy as np\n",
    "from ipywidgets import interact\n",
    "\n",
    "import blpd"
   ]
  },
  {
   "cell_type": "markdown",
   "id": "minus-enough",
   "metadata": {},
   "source": [
    "## Flights\n",
    "\n",
    "The Fuentes et al. (2016) paper used [Lévy](https://en.wikipedia.org/wiki/L%C3%A9vy_flight)-like power law step size distribution with $\\mu=2$, $l_0=1$ [m]. That is the default for `bees.flight`. The flights start at $(0, 0)$ with a northward heading by default. This occasionally produces steps that are quite large."
   ]
  },
  {
   "cell_type": "code",
   "execution_count": null,
   "id": "native-fever",
   "metadata": {},
   "outputs": [],
   "source": [
    "N = 10\n",
    "n = 150\n",
    "seed = 12345"
   ]
  },
  {
   "cell_type": "code",
   "execution_count": null,
   "id": "democratic-glory",
   "metadata": {},
   "outputs": [],
   "source": [
    "fig, ax = plt.subplots()\n",
    "\n",
    "np.random.seed(seed)\n",
    "\n",
    "for _ in range(N):\n",
    "    ax.plot(*blpd.bees.flight(n), \".-\")"
   ]
  },
  {
   "cell_type": "markdown",
   "id": "different-airplane",
   "metadata": {},
   "source": [
    "We can make long steps less likely by increasing $\\mu$, or we can set a maximum step (clip), or both."
   ]
  },
  {
   "cell_type": "code",
   "execution_count": null,
   "id": "distant-stability",
   "metadata": {},
   "outputs": [],
   "source": [
    "fig, ax = plt.subplots()\n",
    "\n",
    "np.random.seed(seed)\n",
    "\n",
    "for _ in range(N):\n",
    "    ax.plot(*blpd.bees.flight(n, mu=2.5, l_max=50), \".-\")"
   ]
  },
  {
   "cell_type": "markdown",
   "id": "parliamentary-civilization",
   "metadata": {},
   "source": [
    "The default relative heading model is to sample angles from a uniform distribution. We can model a preference for continuing in the same direction by using the `heading_model=\"truncnorm\"` option."
   ]
  },
  {
   "cell_type": "code",
   "execution_count": null,
   "id": "falling-registrar",
   "metadata": {},
   "outputs": [],
   "source": [
    "fig, ax = plt.subplots()\n",
    "\n",
    "np.random.seed(seed)\n",
    "\n",
    "for _ in range(N):\n",
    "    ax.plot(*blpd.bees.flight(n, l_max=50, heading_model=\"truncnorm\"), \".-\")"
   ]
  },
  {
   "cell_type": "markdown",
   "id": "seven-preserve",
   "metadata": {},
   "source": [
    "We can adjust the preference. The default `std` is 1.5. Decreasing it, there is greater preference for continuing in the same direction."
   ]
  },
  {
   "cell_type": "code",
   "execution_count": null,
   "id": "native-strategy",
   "metadata": {},
   "outputs": [],
   "source": [
    "fig, ax = plt.subplots()\n",
    "\n",
    "np.random.seed(seed)\n",
    "\n",
    "for _ in range(N):\n",
    "    ax.plot(\n",
    "        *blpd.bees.flight(\n",
    "            n, mu=2, l_max=50, heading_model=\"truncnorm\", heading_model_kwargs=dict(std=0.5)\n",
    "        ),\n",
    "        \".-\"\n",
    "    )"
   ]
  },
  {
   "cell_type": "code",
   "execution_count": null,
   "id": "several-result",
   "metadata": {},
   "outputs": [],
   "source": [
    "fig, ax = plt.subplots()\n",
    "\n",
    "np.random.seed(seed)\n",
    "\n",
    "for _ in range(N):\n",
    "    ax.plot(\n",
    "        *blpd.bees.flight(\n",
    "            n, mu=2, l_max=50, heading_model=\"truncnorm\", heading_model_kwargs=dict(std=3)\n",
    "        ),\n",
    "        \".-\"\n",
    "    )"
   ]
  },
  {
   "cell_type": "markdown",
   "id": "85ffeff2-949c-4296-9dc0-1817920ab7b4",
   "metadata": {},
   "source": [
    "### Interactive"
   ]
  },
  {
   "cell_type": "code",
   "execution_count": null,
   "id": "d00b3d95-3dd2-4ff1-a19f-bb2e75404e32",
   "metadata": {},
   "outputs": [],
   "source": [
    "figi = plt.figure()\n",
    "\n",
    "@interact(\n",
    "    N=(1, 20),\n",
    "    n=(10, 200, 2),\n",
    "    mu=(1.01, 3, 0.01),\n",
    "    l_max=(1, 100, 1),\n",
    "    heading_model=[\"uniform\", \"truncnorm\"],\n",
    "    truncnorm_std=(0.1, 5.0, 0.1),\n",
    "    ls=[\".-\", \"-\"],\n",
    "    fixed_d=[200, 500, 1000, \"none\"],\n",
    ")\n",
    "def plot_flights(N=N, n=n, mu=2, l_max=50, heading_model=\"truncnorm\", truncnorm_std=1.5, ls=\".-\", fixed_d=200):\n",
    "\n",
    "    fig = plt.figure(figi.number); fig.clf(); fig.set_size_inches(7, 6.5); ax = fig.add_subplot()\n",
    "\n",
    "    np.random.seed(seed)\n",
    "\n",
    "    for _ in range(N):\n",
    "        ax.plot(\n",
    "            *blpd.bees.flight(\n",
    "                n, mu=mu, l_max=l_max,\n",
    "                heading_model=heading_model, heading_model_kwargs=dict(std=truncnorm_std)\n",
    "            ),\n",
    "            ls\n",
    "        )\n",
    "    \n",
    "    if fixed_d != \"none\":\n",
    "        lim = (-fixed_d, fixed_d)\n",
    "        ax.set(xlim=lim, ylim=lim)"
   ]
  },
  {
   "cell_type": "markdown",
   "id": "cathedral-flash",
   "metadata": {},
   "source": [
    "## Floral scents\n",
    "\n",
    "We can model the levels of floral volatiles that the bees encounter on their flights."
   ]
  },
  {
   "cell_type": "code",
   "execution_count": null,
   "id": "proper-czech",
   "metadata": {},
   "outputs": [],
   "source": [
    "# TODO"
   ]
  }
 ],
 "metadata": {
  "jupytext": {
   "encoding": "# -*- coding: utf-8 -*-"
  },
  "kernelspec": {
   "display_name": "Python 3",
   "language": "python",
   "name": "python3"
  },
  "language_info": {
   "codemirror_mode": {
    "name": "ipython",
    "version": 3
   },
   "file_extension": ".py",
   "mimetype": "text/x-python",
   "name": "python",
   "nbconvert_exporter": "python",
   "pygments_lexer": "ipython3",
   "version": "3.8.8"
  }
 },
 "nbformat": 4,
 "nbformat_minor": 5
}
