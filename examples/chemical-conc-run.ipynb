{
 "cells": [
  {
   "cell_type": "markdown",
   "id": "controlled-softball",
   "metadata": {
    "lines_to_next_cell": 0
   },
   "source": [
    "# Chemical conc. runs\n",
    "\n",
    "We use `blpd` to model canopy emissions (e.g., floral volatiles). Lagrangian particles have in-particle concentrations of chemical species, which can be spatially aggregated to form concentration maps (or at least relative to release)."
   ]
  },
  {
   "cell_type": "code",
   "execution_count": null,
   "id": "characteristic-trinity",
   "metadata": {
    "lines_to_next_cell": 2
   },
   "outputs": [],
   "source": [
    "import matplotlib.pyplot as plt\n",
    "\n",
    "import blpd\n",
    "from blpd import plot"
   ]
  },
  {
   "cell_type": "markdown",
   "id": "adjacent-federation",
   "metadata": {},
   "source": [
    "## Run LPD\n",
    "\n",
    "For chemical concentrations, we use the (default) continuous-release run type."
   ]
  },
  {
   "cell_type": "code",
   "execution_count": null,
   "id": "genuine-messaging",
   "metadata": {
    "lines_to_next_cell": 2
   },
   "outputs": [],
   "source": [
    "# Start from default case\n",
    "m = blpd.model()\n",
    "\n",
    "# Change some params\n",
    "new_p = {\n",
    "    \"source_positions\": [(-200, -200), (500, 0), (1000, 200)],\n",
    "    # ^ similar to the ones Pratt used in their Fig 4.2\n",
    "    \"t_tot\": 1 * 60.0,  # 1 min; change to 10 min to make the plots more exciting\n",
    "    \"continuous_release\": True,  # this is a default\n",
    "    \"dNp_per_dt_per_source\": 4,\n",
    "}\n",
    "m.update_p(**new_p)\n",
    "\n",
    "# Run\n",
    "m.run()"
   ]
  },
  {
   "cell_type": "markdown",
   "id": "stunning-department",
   "metadata": {},
   "source": [
    "## Calculate chemistry\n",
    "\n",
    "Chemistry is calculated offline, after the LPD model integration. Chemistry routines take the model output dataset (`xr.Dataset`) as input."
   ]
  },
  {
   "cell_type": "code",
   "execution_count": null,
   "id": "quarterly-delight",
   "metadata": {},
   "outputs": [],
   "source": [
    "ds0 = m.to_xarray()\n",
    "ds0"
   ]
  },
  {
   "cell_type": "code",
   "execution_count": null,
   "id": "surgical-pontiac",
   "metadata": {},
   "outputs": [],
   "source": [
    "ds = blpd.chem.calc_relative_levels_fixed_oxidants(ds0)\n",
    "ds"
   ]
  },
  {
   "cell_type": "markdown",
   "id": "distinct-lunch",
   "metadata": {},
   "source": [
    "## Plots\n",
    "\n",
    "`'apinene'` ([α-pinene](https://en.wikipedia.org/wiki/Alpha-Pinene)) is the default species plotted if `spc` is not specified.\n",
    "\n",
    "In the `conc_2d` plot, particles are binned in two dimensions only ($x$ and $y$ by default), so the result is akin to something like total column ozone."
   ]
  },
  {
   "cell_type": "code",
   "execution_count": null,
   "id": "german-clothing",
   "metadata": {},
   "outputs": [],
   "source": [
    "plot.conc_2d(ds)"
   ]
  },
  {
   "cell_type": "markdown",
   "id": "forbidden-terrace",
   "metadata": {},
   "source": [
    "Below we demonstrate the impact of some `conc_2d` settings. The choice of `bins` is important."
   ]
  },
  {
   "cell_type": "code",
   "execution_count": null,
   "id": "photographic-group",
   "metadata": {
    "lines_to_next_cell": 2
   },
   "outputs": [],
   "source": [
    "kwargss = [\n",
    "    dict(),  # default\n",
    "    dict(bins=(100, 50)),\n",
    "    dict(bins=\"auto\"),\n",
    "    dict(bins=\"auto\", log_cnorm=True),\n",
    "    dict(plot_type=\"contourf\"),\n",
    "    dict(plot_type=\"contourf\", bins=(100, 50)),\n",
    "    dict(plot_type=\"contourf\", bins=\"auto\"),\n",
    "    dict(plot_type=\"contourf\", bins=\"auto\", log_cnorm=True),\n",
    "]\n",
    "\n",
    "fig, axs = plt.subplots(4, 2, sharex=True, sharey=True, figsize=(9, 12))\n",
    "\n",
    "for ax, kwargs in zip(axs.flat, kwargss):\n",
    "    plot.conc_2d(ds, **kwargs, ax=ax)"
   ]
  },
  {
   "cell_type": "markdown",
   "id": "subtle-insert",
   "metadata": {},
   "source": [
    "We can compare the above reactive species conc. plots to one of the non-reactice particles."
   ]
  },
  {
   "cell_type": "code",
   "execution_count": null,
   "id": "historical-gibson",
   "metadata": {},
   "outputs": [],
   "source": [
    "plot.final_pos_hist2d(ds, bins=\"auto\", log_cnorm=True)"
   ]
  },
  {
   "cell_type": "markdown",
   "id": "naked-nightlife",
   "metadata": {},
   "source": [
    "We can plot other chemical species if we want."
   ]
  },
  {
   "cell_type": "code",
   "execution_count": null,
   "id": "imposed-dietary",
   "metadata": {
    "lines_to_next_cell": 2
   },
   "outputs": [],
   "source": [
    "fig, axs = plt.subplots(3, 2, sharex=True, sharey=True, figsize=(9, 9))\n",
    "\n",
    "for spc, ax in zip(ds.spc.values[:6], axs.flat):\n",
    "    plot.conc_2d(ds, spc, plot_type=\"pcolor\", bins=\"auto\", log_cnorm=True, vmin=1.0, ax=ax)\n",
    "    ax.text(\n",
    "        0.02,\n",
    "        0.98,\n",
    "        f\"mean: {ds.f_r.sel(spc=spc).mean().values:.4g}\",\n",
    "        ha=\"left\",\n",
    "        va=\"top\",\n",
    "        transform=ax.transAxes,\n",
    "    )"
   ]
  },
  {
   "cell_type": "markdown",
   "id": "excellent-henry",
   "metadata": {},
   "source": [
    "And \"line\" concentrations."
   ]
  },
  {
   "cell_type": "code",
   "execution_count": null,
   "id": "imported-court",
   "metadata": {},
   "outputs": [],
   "source": [
    "plot.conc_xline(ds, spc=\"all\")"
   ]
  }
 ],
 "metadata": {
  "jupytext": {
   "cell_metadata_filter": "title,-all",
   "encoding": "# -*- coding: utf-8 -*-"
  },
  "kernelspec": {
   "display_name": "Python 3",
   "language": "python",
   "name": "python3"
  },
  "language_info": {
   "codemirror_mode": {
    "name": "ipython",
    "version": 3
   },
   "file_extension": ".py",
   "mimetype": "text/x-python",
   "name": "python",
   "nbconvert_exporter": "python",
   "pygments_lexer": "ipython3",
   "version": "3.8.8"
  }
 },
 "nbformat": 4,
 "nbformat_minor": 5
}
